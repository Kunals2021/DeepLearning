{
  "nbformat": 4,
  "nbformat_minor": 0,
  "metadata": {
    "colab": {
      "provenance": []
    },
    "kernelspec": {
      "name": "python3",
      "display_name": "Python 3"
    },
    "language_info": {
      "name": "python"
    }
  },
  "cells": [
    {
      "cell_type": "markdown",
      "source": [
        "Lab 1 : Implement Delta and Batch Delta Rule  # Kunal Singh ID 2001081205\n",
        "\n",
        "Outcome : The aim of learning is to minimize the error summed over all training cases.\n",
        "\n",
        "The error can be a mean squared error (MSE error) between the desired output and the actual output.\n",
        "\n",
        "This experiment uses concept of Linear Neuron ( linear filters)\n",
        "In the experiment the neuron has a real-valued output which is a weighted sum of its inputs.\n",
        "\n",
        "The loss function used in this code is mean squared error (MSE).\n",
        "\n",
        "The code is first creating a tensor of input values and a tensor of target prices for training the model. Then, it creates an empty list to store the loss values for each iteration of the algorithm. It also creates a tensor of input values and target prices for testing the model and an empty list to store the test error for each iteration.\n",
        "\n",
        "Delta Rule algorithm is implemented in a for loop that iterates over the training data for a fixed number of times. Within each iteration, it computes the predicted price for the current input using the current weights of the model. It then calculates the delta or the change in the weights required to reduce the loss for the current input. The delta is calculated using the learning rate and the error between the predicted price and the actual price. The new weights are obtained by adding the delta to the current weights. The loss for the current input is calculated using the mean squared error between the predicted price and the actual price.\n",
        "\n",
        "After the training is complete, the loss values for each iteration are plotted using matplotlib. \n",
        "Two graphs are plotted using the data.\n",
        "\n",
        "1.One for the training loss.\n",
        "2.One for the test error loss. \n",
        "\n",
        "The x-axis of both the graphs represents the iteration number and the y-axis represents the loss value. The graphs show how the loss value reduces as the algorithm iteratively adjusts the weights of the model to minimize the loss function. The test error graph shows how well the model is generalizing to new data.\n"
      ],
      "metadata": {
        "id": "NDp0ZNuwt8RZ"
      }
    },
    {
      "cell_type": "code",
      "source": [
        "# Implement Training and testing for Delta Rule #\n",
        "\n",
        "import torch\n",
        "import matplotlib.pyplot as plt\n",
        "# create a tensor with certain values\n",
        "portion = torch.tensor([[5,2,4],\n",
        "                        [3,3,3],\n",
        "                        [0,5,1],\n",
        "                        [2,1,2]])\n",
        "\n",
        "#true_wt = torch.tensor([[150,50,100]])\n",
        "start_wt = torch.tensor([50.0,50.0,50.0], dtype=float)\n",
        "learning_rate = torch.tensor([1/70,1/12,1/27,2/20])\n",
        "wt_change = torch.tensor([0,0,0,0])\n",
        "target_price = torch.tensor([1250,900,350,550])\n",
        "\n",
        "# Create empty lists to store the loss and weight values\n",
        "losses = []\n",
        "\n",
        "portion_test = torch.tensor([[6,1,3],\n",
        "                        [2,2,1],\n",
        "                        [4,5,0]])\n",
        "target_price_test = torch.tensor([1250,500,850])\n",
        "test_err_list = []\n",
        "\n",
        "# Delta Rule :-\n",
        "for i in range(0,4):\n",
        "  #target_price = 0\n",
        "  pred_wt = 0\n",
        "\n",
        "  pred_wt = torch.sum(start_wt * portion[i,:])\n",
        "  # pred_wt = torch.dot(start_wt, portion[i,:])\n",
        "  # pred_wt = np.dot(start_wt, inp)\n",
        "  #print(target_price)\n",
        "  # print(\"Target price\")\n",
        "  # print(target_price[i])\n",
        "  # print(\"Predictive price\")\n",
        "  # print(pred_wt)\n",
        "  # print(\"X-Y price\")\n",
        "  # print(target_price[i] - pred_wt)\n",
        "  delta_rule = learning_rate[i] * portion[i,:] * (target_price[i] - pred_wt)\n",
        "  #print(learning_rate[i])\n",
        "  # print(\"delta -> change in price \")\n",
        "  # print(delta_rule)\n",
        "  start_wt += delta_rule\n",
        "  # print(\"New start weight\")\n",
        "  # print(start_wt)\n",
        "      \n",
        "  # Compute and store the loss\n",
        "  # loss = torch.nn.MSELoss()(target_price[i],pred_wt)\n",
        "  loss = torch.mean((target_price[i]-pred_wt)**2)\n",
        "  total_loss_test = 0\n",
        "  for j in range(3):\n",
        "    pred_ = torch.sum(start_wt * portion_test[j,:])\n",
        "    # pred_ = torch.dot(start_wt, portion_test[j,:])\n",
        "    loss_test = torch.nn.MSELoss()(target_price_test[j],pred_)\n",
        "    #loss_test = torch.mean((target_price[i]-pred_)**2)\n",
        "    total_loss_test += loss_test\n",
        "  # test_loss = torch.nn.MSELoss()(target_price[i],pred_wt)\n",
        "  #loss = torch.mean((pred_wt - target_price)**2)\n",
        "  test_loss = total_loss_test/3\n",
        "  #print(test_loss.item())\n",
        "  losses.append(loss.item())\n",
        "  test_err_list.append(test_loss.item())\n",
        "  #print('iteration: {}\\n train_loss: {}\\ntest_loss: {}'.format(i, loss, loss_test))\n",
        "  #print('weight: {}\\npred_price: {}'.format(start_wt, pred_wt))\n",
        "\n",
        "# Plot the loss as a function of the iteration number\n",
        "plt.plot(range(1, 5), losses)\n",
        "plt.xlabel('Iteration') \n",
        "plt.ylabel('Loss')\n",
        "plt.show()\n",
        "\n",
        "plt.plot(range(1, 5), test_err_list)\n",
        "plt.xlabel('Iteration')\n",
        "plt.ylabel('Loss')\n",
        "plt.show()"
      ],
      "metadata": {
        "colab": {
          "base_uri": "https://localhost:8080/",
          "height": 541
        },
        "id": "q2r6r-u3uMn0",
        "outputId": "b3395f0d-7f1a-4b99-c7ef-87c93239d518"
      },
      "execution_count": 2,
      "outputs": [
        {
          "output_type": "display_data",
          "data": {
            "text/plain": [
              "<Figure size 432x288 with 1 Axes>"
            ],
            "image/png": "[encoded data removed]"
          },
          "metadata": {
            "needs_background": "light"
          }
        },
        {
          "output_type": "display_data",
          "data": {
            "text/plain": [
              "<Figure size 432x288 with 1 Axes>"
            ],
            "image/png": "[encoded data removed]"
          },
          "metadata": {
            "needs_background": "light"
          }
        }
      ]
    },
    {
      "cell_type": "markdown",
      "source": [
        "Training and Testing for Batch Delta Rule.\n",
        "\n",
        "The batch delta rule is a gradient descent-based optimization algorithm used to minimize the loss function of a machine learning model. \n",
        "It has follwing advantages.\n",
        "1. Efficiency \n",
        "2. Stability \n",
        "3. Generalization\n",
        "4. Scalability\n",
        ".\n",
        "\n",
        "For simplification , \n",
        "We have imported two classes from the torch.utils.data module in PyTorch, namely DataLoader and Dataset.\n",
        "\n",
        "In the following code : the DataLoader and Dataset classes are used to create a custom dataset (CustomDataset) and a data loader (train_batch_loader) for loading training data in batches.\n",
        "\n",
        "For the purpose of our experiment: \n",
        "The weight changes are summed over training cases. \n",
        "10 epochs and a batch size of 3 are required. Using the data samples as given in the lab1 pdf and the learning rate ε is 1/100:\n",
        "\n",
        "Here we do not have different learing rate for diffrent batches but we have just one learning rate as it is a hyperparameter that controls the step size of the  update to the model parameters.\n",
        "\n",
        "Having a single learning rate for the batch delta rule allows the algorithm to update the model parameters in a consistent and coordinated way across all examples in the batch.\n",
        "\n",
        "Using a single learning rate is also more computationally efficient than using different learning rates for each example in the batch, as it avoids the need to compute and store a separate learning rate for each example\n",
        "\n",
        "Observations:\n",
        "\n",
        "1.The \"CustomDataset\" class is used to create a training and testing dataset.\n",
        "The code then initializes the starting weight vector, the learning rate, and the number of epochs to be used in the training.\n",
        "\n",
        "2.In the training loop, the code calculates the predicted values for each batch using the starting weight vector and the batch input values. Then, it calculates the error between the predicted and target values and updates the weight vector using the batch delta rule. The process is repeated for each batch in the training dataset.\n",
        "\n",
        "3.The training loss and testing loss are calculated for each epoch and stored in the train_loss and test_loss lists, respectively.\n",
        "\n",
        "4.Finally, the testing loss is plotted against the number of iterations to visualize the learning progress.\n",
        "\n",
        "5.The plot shows that the testing loss decreases as the number of iterations increase, which indicates that the model is learning and getting closer to the optimal solution.\n",
        "The plot also shows that the testing loss starts to plateau after a certain number of iterations, which suggests that the model is no longer improving significantly and may have reached its limit.\n"
      ],
      "metadata": {
        "id": "5_xrWHhvuS4U"
      }
    },
    {
      "cell_type": "code",
      "source": [
        "# define a custom dataset\n",
        "class CustomDataset(Dataset):\n",
        "    def __init__(self, data, target):\n",
        "        self.data = data\n",
        "        self.target = target\n",
        "\n",
        "    def __len__(self):\n",
        "        return len(self.data)\n",
        "\n",
        "    def __getitem__(self, idx):\n",
        "        x = self.data[idx]\n",
        "        y = self.target[idx]\n",
        "        return x, y\n",
        "\n",
        "## Training of Batch Delta Rule #\n",
        "\n",
        "# create a tensor with certain values\n",
        "portion = torch.tensor([[5,2,4],[3,3,3],[0,5,1],\n",
        "                       [2,1,2],[1,0,5],[4,2,1],\n",
        "                       [6,1,1],[2,3,4],[7,3,0],\n",
        "                       [4,4,2],[1,5,7],[5,1,3]])\n",
        "\n",
        "#true_wt = torch.tensor([[150,50,100]])\n",
        "start_wt = torch.tensor([50,50,50], dtype=torch.float)\n",
        "#learning_rate = torch.tensor([1/70,1/12,1/27,2/20])\n",
        "target_price = torch.tensor([1250,900,350,\n",
        "                            550,650,800,\n",
        "                            1050,850,1200,\n",
        "                            1000,1100,1100])\n",
        "learning_rate = 1/100\n",
        "\n",
        "train_batch = CustomDataset(portion, target_price)\n",
        "train_batch_loader = DataLoader(train_batch, batch_size=3)\n",
        "test_batch = CustomDataset(portion, target_price)\n",
        "test_batch_loader = DataLoader(test_batch, batch_size=3)\n",
        "\n",
        "start_wt = start_wt.float()\n",
        "epoch = 10\n",
        "train_loss = []\n",
        "test_loss = []\n",
        "for epoch in range(epoch):\n",
        "    for batch_x, batch_y in train_batch_loader:\n",
        "        batch_x = batch_x.float()\n",
        "        batch_y = batch_y.float()\n",
        "        wt_pred = torch.mv(batch_x,start_wt)\n",
        "        err = batch_y - wt_pred  # error\n",
        "        delta_w = learning_rate * torch.mv(torch.t(batch_x), err) / len(batch_x)  # weight update\n",
        "        start_wt = start_wt + delta_w  # apply weight update\n",
        "    train_loss.append(loss.item())\n",
        "\n",
        "    for batch_x_t, batch_y_t in test_batch_loader:\n",
        "        batch_x_t = batch_x_t.float()\n",
        "        batch_y_t = batch_y_t.float()\n",
        "        wt_pred_t = torch.mv(batch_x_t,start_wt)\n",
        "        err_t = batch_y_t - wt_pred_t  # error\n",
        "        loss_t = torch.mean((err_t)**2)\n",
        "    test_loss.append(loss_t.item())\n",
        "\n",
        "#print(\"Final weights: \", start_wt)\n",
        "plt.plot(test_loss)\n",
        "plt.title('Testing Loss vs. Iterations')\n",
        "plt.show()\n"
      ],
      "metadata": {
        "colab": {
          "base_uri": "https://localhost:8080/",
          "height": 281
        },
        "id": "IAOqB9Alui2E",
        "outputId": "b6fa71b7-ff1a-4f31-a66e-7fabaec6bed2"
      },
      "execution_count": 3,
      "outputs": [
        {
          "output_type": "display_data",
          "data": {
            "text/plain": [
              "<Figure size 432x288 with 1 Axes>"
            ],
            "image/png": "[encoded data removed]"
          },
          "metadata": {
            "needs_background": "light"
          }
        }
      ]
    }
  ]
}